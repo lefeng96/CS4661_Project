{
 "cells": [
  {
   "cell_type": "markdown",
   "metadata": {},
   "source": [
    "# Finding Similar Anime By Genre\n",
    "\n",
    "An anime finder by genre using simple feature and jaccard similarity score. "
   ]
  },
  {
   "cell_type": "code",
   "execution_count": 1,
   "metadata": {},
   "outputs": [],
   "source": [
    "import numpy as np\n",
    "import pandas as pd\n",
    "import itertools\n",
    "import collections\n",
    "import seaborn as sns\n",
    "import matplotlib.pyplot as plt\n",
    "from sklearn.metrics import jaccard_similarity_score"
   ]
  },
  {
   "cell_type": "markdown",
   "metadata": {},
   "source": [
    "# Preprocessing\n",
    "\n",
    "We split the genre in preprocessing, so later we can turn them to features."
   ]
  },
  {
   "cell_type": "code",
   "execution_count": 2,
   "metadata": {},
   "outputs": [
    {
     "name": "stdout",
     "output_type": "stream",
     "text": [
      "            genre  count\n",
      "10         Comedy   4645\n",
      "4          Action   2845\n",
      "5       Adventure   2348\n",
      "6         Fantasy   2309\n",
      "14         Sci-Fi   2070\n",
      "0           Drama   2016\n",
      "9         Shounen   1712\n",
      "38           Kids   1609\n",
      "1         Romance   1464\n",
      "2          School   1220\n",
      "19  Slice of Life   1220\n",
      "41         Hentai   1141\n",
      "3    Supernatural   1037\n",
      "20          Mecha    944\n",
      "21          Music    860\n",
      "11     Historical    806\n",
      "7           Magic    778\n",
      "31          Ecchi    637\n",
      "26         Shoujo    603\n",
      "23         Seinen    547\n",
      "16         Sports    543\n",
      "22        Mystery    495\n",
      "17    Super Power    465\n",
      "8        Military    426\n",
      "12         Parody    408\n",
      "18          Space    381\n",
      "27         Horror    369\n",
      "36          Harem    317\n",
      "30         Demons    294\n",
      "24   Martial Arts    265\n",
      "35       Dementia    240\n",
      "29  Psychological    229\n",
      "28         Police    197\n",
      "34           Game    181\n",
      "13        Samurai    148\n",
      "25        Vampire    102\n",
      "15       Thriller     87\n",
      "37           Cars     72\n",
      "33     Shounen Ai     65\n",
      "40           None     62\n",
      "39      Shoujo Ai     55\n",
      "32          Josei     54\n",
      "43           Yuri     42\n",
      "42           Yaoi     39\n"
     ]
    }
   ],
   "source": [
    "anime = pd.read_csv(\"anime.csv\") \n",
    "\n",
    "anime['genre'] = anime['genre'].fillna('None')\n",
    "anime['genre'] = anime['genre'].apply(lambda x: x.split(', '))\n",
    "\n",
    "genre_data = itertools.chain(*animes['genre'].values.tolist())\n",
    "genre_counter = collections.Counter(genre_data)\n",
    "genres = pd.DataFrame.from_dict(genre_counter, orient='index').reset_index().rename(columns={'index':'genre', 0:'count'})\n",
    "genres.sort_values('count', ascending=False, inplace=True)\n",
    "\n",
    "print(genres)"
   ]
  },
  {
   "cell_type": "markdown",
   "metadata": {},
   "source": [
    "# Feature Extraction\n",
    "The feature extraction is simple, a binary encoded vector of genre.\n",
    "\n",
    "this shows which feature/genre each show has in binary (by id)"
   ]
  },
  {
   "cell_type": "code",
   "execution_count": 3,
   "metadata": {
    "scrolled": false
   },
   "outputs": [
    {
     "name": "stdout",
     "output_type": "stream",
     "text": [
      "                                                 name  \\\n",
      "0                                      Kimi no Na wa.   \n",
      "1                    Fullmetal Alchemist: Brotherhood   \n",
      "2                                            Gintama°   \n",
      "3                                         Steins;Gate   \n",
      "4                                       Gintama&#039;   \n",
      "5   Haikyuu!!: Karasuno Koukou VS Shiratorizawa Ga...   \n",
      "6                              Hunter x Hunter (2011)   \n",
      "7                                Ginga Eiyuu Densetsu   \n",
      "8   Gintama Movie: Kanketsu-hen - Yorozuya yo Eien...   \n",
      "9                            Gintama&#039;: Enchousen   \n",
      "10                               Clannad: After Story   \n",
      "11                                     Koe no Katachi   \n",
      "12                                            Gintama   \n",
      "13                 Code Geass: Hangyaku no Lelouch R2   \n",
      "14                            Haikyuu!! Second Season   \n",
      "15                      Sen to Chihiro no Kamikakushi   \n",
      "16                            Shigatsu wa Kimi no Uso   \n",
      "17                      Mushishi Zoku Shou 2nd Season   \n",
      "18                       Ookami Kodomo no Ame to Yuki   \n",
      "19                    Code Geass: Hangyaku no Lelouch   \n",
      "20                                     Hajime no Ippo   \n",
      "21  Rurouni Kenshin: Meiji Kenkaku Romantan - Tsui...   \n",
      "22                                       Cowboy Bebop   \n",
      "23                                      One Punch Man   \n",
      "24                                      Mononoke Hime   \n",
      "25                      Suzumiya Haruhi no Shoushitsu   \n",
      "26                   Monogatari Series: Second Season   \n",
      "27                                 Mushishi Zoku Shou   \n",
      "28                                           Mushishi   \n",
      "29                         Tengen Toppa Gurren Lagann   \n",
      "\n",
      "                                                genre  \n",
      "0   [1, 1, 1, 1, 0, 0, 0, 0, 0, 0, 0, 0, 0, 0, 0, ...  \n",
      "1   [1, 0, 0, 0, 1, 1, 1, 1, 1, 1, 0, 0, 0, 0, 0, ...  \n",
      "2   [0, 0, 0, 0, 1, 0, 0, 0, 0, 1, 1, 1, 1, 1, 1, ...  \n",
      "3   [0, 0, 0, 0, 0, 0, 0, 0, 0, 0, 0, 0, 0, 0, 1, ...  \n",
      "4   [0, 0, 0, 0, 1, 0, 0, 0, 0, 1, 1, 1, 1, 1, 1, ...  \n",
      "5   [1, 0, 1, 0, 0, 0, 0, 0, 0, 1, 1, 0, 0, 0, 0, ...  \n",
      "6   [0, 0, 0, 0, 1, 1, 0, 0, 0, 1, 0, 0, 0, 0, 0, ...  \n",
      "7   [1, 0, 0, 0, 0, 0, 0, 0, 1, 0, 0, 0, 0, 0, 1, ...  \n",
      "8   [0, 0, 0, 0, 1, 0, 0, 0, 0, 1, 1, 1, 1, 1, 1, ...  \n",
      "9   [0, 0, 0, 0, 1, 0, 0, 0, 0, 1, 1, 1, 1, 1, 1, ...  \n",
      "10  [1, 1, 0, 1, 0, 0, 1, 0, 0, 0, 0, 0, 0, 0, 0, ...  \n",
      "11  [1, 0, 1, 0, 0, 0, 0, 0, 0, 1, 0, 0, 0, 0, 0, ...  \n",
      "12  [0, 0, 0, 0, 1, 0, 0, 0, 0, 1, 1, 1, 1, 1, 1, ...  \n",
      "13  [1, 0, 0, 0, 1, 0, 0, 0, 1, 0, 0, 0, 0, 0, 1, ...  \n",
      "14  [1, 0, 1, 0, 0, 0, 0, 0, 0, 1, 1, 0, 0, 0, 0, ...  \n",
      "15  [1, 0, 0, 1, 0, 1, 0, 0, 0, 0, 0, 0, 0, 0, 0, ...  \n",
      "16  [1, 1, 1, 0, 0, 0, 0, 0, 0, 1, 0, 0, 0, 0, 0, ...  \n",
      "17  [0, 0, 0, 1, 0, 1, 1, 0, 0, 0, 0, 1, 0, 0, 0, ...  \n",
      "18  [0, 0, 0, 0, 0, 0, 1, 0, 0, 0, 0, 0, 0, 0, 0, ...  \n",
      "19  [0, 0, 1, 0, 1, 0, 0, 0, 1, 0, 0, 0, 0, 0, 1, ...  \n",
      "20  [1, 0, 0, 0, 0, 0, 0, 0, 0, 1, 1, 0, 0, 0, 0, ...  \n",
      "21  [1, 1, 0, 0, 1, 0, 0, 0, 0, 0, 0, 1, 0, 1, 0, ...  \n",
      "22  [1, 0, 0, 0, 1, 1, 0, 0, 0, 0, 1, 0, 0, 0, 1, ...  \n",
      "23  [0, 0, 0, 1, 1, 0, 0, 0, 0, 0, 1, 0, 1, 0, 1, ...  \n",
      "24  [0, 0, 0, 0, 1, 1, 1, 0, 0, 0, 0, 0, 0, 0, 0, ...  \n",
      "25  [0, 1, 1, 1, 0, 0, 0, 0, 0, 0, 1, 0, 0, 0, 1, ...  \n",
      "26  [0, 1, 0, 1, 0, 0, 0, 0, 0, 0, 1, 0, 0, 0, 0, ...  \n",
      "27  [0, 0, 0, 1, 0, 1, 1, 0, 0, 0, 0, 1, 0, 0, 0, ...  \n",
      "28  [0, 0, 0, 1, 0, 1, 1, 0, 0, 0, 0, 1, 0, 0, 0, ...  \n",
      "29  [0, 0, 0, 0, 1, 1, 0, 0, 0, 0, 1, 0, 0, 0, 1, ...  \n"
     ]
    }
   ],
   "source": [
    "genre_map = {genre: idx for idx, genre in enumerate(genre_counter.keys())}\n",
    "def extract_feature(genre):\n",
    "    feature = np.zeros(len(genre_map.keys()), dtype=int)\n",
    "    feature[[genre_map[idx] for idx in genre]] += 1\n",
    "    return feature\n",
    "    \n",
    "anime_feature = pd.concat([animes['name'], animes['genre']], axis=1)\n",
    "anime_feature['genre'] = anime_feature['genre'].apply(lambda x: extract_feature(x))\n",
    "print(anime_feature.head(30))"
   ]
  },
  {
   "cell_type": "markdown",
   "metadata": {},
   "source": [
    "# Testing"
   ]
  },
  {
   "cell_type": "code",
   "execution_count": 8,
   "metadata": {},
   "outputs": [
    {
     "name": "stdout",
     "output_type": "stream",
     "text": [
      "Similar anime like Naruto:\n",
      "\tNaruto: Shippuuden Movie 3 - Hi no Ishi wo Tsugu Mono\n",
      "\tNaruto Soyokazeden Movie: Naruto to Mashin to Mitsu no Onegai Dattebayo!!\n",
      "\tNaruto: Shippuuden\n",
      "\tNaruto Shippuuden: Sunny Side Battle\n",
      "\tBoruto: Naruto the Movie - Naruto ga Hokage ni Natta Hi\n",
      "\tBoruto: Naruto the Movie\n",
      "\tNaruto x UT\n",
      "\tNaruto: Shippuuden Movie 4 - The Lost Tower\n",
      "\tBattle Spirits: Ryuuko no Ken\n",
      "\tKyutai Panic Adventure!\n",
      "\n",
      "Similar anime like Koe no Katachi:\n",
      "\tShinken Seminar Koukou Kouza\n",
      "\tMaji\n",
      "\tKoha Ginjiro\n",
      "\tSKET Dance: Demystifying Special\n",
      "\tShiranpuri (Movie)\n",
      "\tSotsugyou M: Ore-tachi no Carnival\n",
      "\tDodani\n",
      "\tSotsugyou: Graduation\n",
      "\tSuntory Minami Alps no Tennen Mizu\n",
      "\tKimi no Iru Machi: Tasogare Kousaten\n",
      "\n",
      "Similar anime like Kimi no Na wa.:\n",
      "\tWind: A Breath of Heart (TV)\n",
      "\tWind: A Breath of Heart OVA\n",
      "\tTo Heart 2 Special\n",
      "\tKoi to Senkyo to Chocolate Special\n",
      "\tKoi to Senkyo to Chocolate\n",
      "\tTouka Gettan\n",
      "\tMizuiro (2003)\n",
      "\tMyself; Yourself\n",
      "\tAir Movie\n",
      "\tKimikiss Pure Rouge\n",
      "\n",
      "Similar anime like One Punch Man:\n",
      "\tOne Punch Man Specials\n",
      "\tOne Punch Man: Road to Hero\n",
      "\tOne Punch Man 2\n",
      "\tTentai Senshi Sunred\n",
      "\tMirai Kara Kita Shounen Super Jetter\n",
      "\tSuper Milk-chan\n",
      "\tKiddy GiRL-AND\n",
      "\tUltraman Graffiti\n",
      "\tTentai Senshi Sunred: Short Corner\n",
      "\tTentai Senshi Sunred 2nd Season\n",
      "\n"
     ]
    }
   ],
   "source": [
    "test_data = anime_feature.take([841, 11, 0, 23])\n",
    "for row in test_data.iterrows():\n",
    "    print('Similar anime like {}:'.format(row[1]['name']))\n",
    "    search = anime_feature.drop([row[0]]) # drop current anime\n",
    "    search['result'] = search['genre'].apply(lambda x: jaccard_similarity_score(row[1]['genre'], x))\n",
    "    search_result = search.sort_values('result', ascending=False)['name'].head(10)\n",
    "    for res in search_result.values:\n",
    "        print('\\t{}'.format(res))\n",
    "    print()"
   ]
  },
  {
   "cell_type": "code",
   "execution_count": 5,
   "metadata": {},
   "outputs": [],
   "source": [
    "# for row in anime_feature.iterrows():\n",
    "#     print('Similar anime like {}:'.format(row[1]['name']))\n",
    "#     search = anime_feature.drop([row[0]])\n",
    "#     search['result'] = search['genre'].apply(lambda x: jaccard_similarity_score(row[1]['genre'], x))\n",
    "#     search_result = search.sort_values('result', ascending=False)['name'].head(5)\n",
    "#     for res in search_result.values:\n",
    "#         print('\\t{}'.format(res))"
   ]
  },
  {
   "cell_type": "code",
   "execution_count": null,
   "metadata": {},
   "outputs": [],
   "source": []
  },
  {
   "cell_type": "code",
   "execution_count": null,
   "metadata": {},
   "outputs": [],
   "source": []
  }
 ],
 "metadata": {
  "kernelspec": {
   "display_name": "Python 3",
   "language": "python",
   "name": "python3"
  },
  "language_info": {
   "codemirror_mode": {
    "name": "ipython",
    "version": 3
   },
   "file_extension": ".py",
   "mimetype": "text/x-python",
   "name": "python",
   "nbconvert_exporter": "python",
   "pygments_lexer": "ipython3",
   "version": "3.7.0"
  }
 },
 "nbformat": 4,
 "nbformat_minor": 2
}
