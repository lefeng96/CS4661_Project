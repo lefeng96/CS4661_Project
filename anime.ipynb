{
  "cells": [
    {
      "metadata": {
        "_cell_guid": "4c558693-ea15-43e8-93ac-0bd09ffa3fe7",
        "_active": false,
        "_uuid": "05f2a5626acb99e5744e5f4b65addb27ecb39d45"
      },
      "cell_type": "markdown",
      "source": "Here's a content based recommendation system for the anime using the nearest neighbor approach, that has surprisingly good results compared to the straight-forward approach using anime genres, anime type, rating, episode number and member numbers as features(along with some preprocessing of the text data and feature scaling). It's returning 2nd season of the animes for the queries so far. It's also good at recommending similar movies for movie queries and anime TV shows for the TV show queries."
    },
    {
      "metadata": {
        "_cell_guid": "39ce71fb-600a-f577-1e74-370036cb7abf",
        "_active": false,
        "_uuid": "f5a2a4fcc8bf4d0a2ccc05117fab77fc7029aa64"
      },
      "cell_type": "markdown",
      "source": "\n![](http://2.bp.blogspot.com/-JkQezo4c7LQ/VN1QJdAp_kI/AAAAAAAAfQs/e_zu299T8bI/s1600/anime_wallpaper_by_m)"
    },
    {
      "metadata": {
        "_cell_guid": "3d40a89f-c9ef-85fe-7939-f69d50cc9bc8",
        "_active": false,
        "_uuid": "74bf1f0bc7c4b9eff205e188783a195332eda984",
        "trusted": false
      },
      "cell_type": "code",
      "source": "import numpy as np\nimport pandas as pd\nimport matplotlib.pyplot as plt\nimport re\nimport seaborn as sns\n%matplotlib inline",
      "execution_count": null,
      "outputs": []
    },
    {
      "metadata": {
        "_cell_guid": "b7a8ab77-0059-f73c-d7b1-82eac9b111c9",
        "_active": false,
        "_uuid": "574525ae2b8a010ef5ebff3b047e510801edc905",
        "trusted": false
      },
      "cell_type": "code",
      "source": "anime = pd.read_csv(\"../input/anime.csv\")",
      "execution_count": null,
      "outputs": []
    },
    {
      "metadata": {
        "_cell_guid": "43808df8-9c5c-5d0b-3c74-0a1801662302",
        "_active": false,
        "_uuid": "38e104e8024ac63f05b4884cb49f90d26a936bdb",
        "trusted": false
      },
      "cell_type": "code",
      "source": "anime.head()",
      "execution_count": null,
      "outputs": []
    },
    {
      "metadata": {
        "_cell_guid": "ae7d00cf-2749-6484-674c-78277c4829ab",
        "_active": false,
        "_uuid": "bceb70c6c0ff7b7d6a62cd40425df393b6da9cd1"
      },
      "cell_type": "markdown",
      "source": "# Data Preprocessing : "
    },
    {
      "metadata": {
        "_cell_guid": "8f2faef1-b496-1b13-6df0-54cb7f7624f3",
        "_active": false,
        "_uuid": "549b6f41b3b03074f457db07b75e7ecbd870b39e"
      },
      "cell_type": "markdown",
      "source": "Many animes have unknown number of episodes even if they have similar rating. On top of that many super popular animes such as Naruto Shippuden, Attack on Titan Season 2 were ongoing when the data was collected, thus their number of episodes was considered as \"Unknown\". For some of my favorite animes I've filled in the episode numbers manually. For the other anime's, I had to make some educated guesses. Changes I've made are :\n\n1. Animes that are grouped under Hentai Categories generally have 1 episode in my experience. So I've filled the unknown values with 1.\n\n2. Animes that are grouped are \"OVA\" stands for \"Original Video Animation\". These are generally one/two episode long animes(often the popular ones have 2/3 episodes though), but I've decided to fill the unknown numbers of episodes with 1 again.\n\n3. Animes that are grouped under \"Movies\" are considered as '1' episode as per the dataset overview goes.\n\n4. For all the other animes with unknown number of episodes, I've filled the na values with the median which is 2.  "
    },
    {
      "metadata": {
        "_cell_guid": "ac4631f9-3c21-b767-86ca-fe2b2859048c",
        "_active": false,
        "_uuid": "bc543a7aebba3eb6b876d65ca9492db773335918",
        "trusted": false
      },
      "cell_type": "code",
      "source": "anime.loc[(anime[\"genre\"]==\"Hentai\") & (anime[\"episodes\"]==\"Unknown\"),\"episodes\"] = \"1\"\nanime.loc[(anime[\"type\"]==\"OVA\") & (anime[\"episodes\"]==\"Unknown\"),\"episodes\"] = \"1\"\n\nanime.loc[(anime[\"type\"] == \"Movie\") & (anime[\"episodes\"] == \"Unknown\")] = \"1\"",
      "execution_count": null,
      "outputs": []
    },
    {
      "metadata": {
        "_cell_guid": "9d7dff28-7e65-18f8-01f1-c606529d6ea0",
        "_active": false,
        "_uuid": "0b7e14ddf321643ab52f7e28ce443a44b1cd5317",
        "trusted": false
      },
      "cell_type": "code",
      "source": "known_animes = {\"Naruto Shippuuden\":500, \"One Piece\":784,\"Detective Conan\":854, \"Dragon Ball Super\":86,\n                \"Crayon Shin chan\":942, \"Yu Gi Oh Arc V\":148,\"Shingeki no Kyojin Season 2\":25,\n                \"Boku no Hero Academia 2nd Season\":25,\"Little Witch Academia TV\":25}",
      "execution_count": null,
      "outputs": []
    },
    {
      "metadata": {
        "_cell_guid": "d8e89ac4-efa4-b608-92c0-f589a8987894",
        "_active": false,
        "_uuid": "aae06bfe59151cc1ac33580f4ed884be3242b008",
        "trusted": false
      },
      "cell_type": "code",
      "source": "for k,v in known_animes.items():    \n    anime.loc[anime[\"name\"]==k,\"episodes\"] = v",
      "execution_count": null,
      "outputs": []
    },
    {
      "metadata": {
        "_cell_guid": "53ece008-e97f-9ec3-2e75-3748d5a0adf2",
        "_active": false,
        "_uuid": "e18a40368fa883c7cb0ae8a544dcd87f416c90e9",
        "trusted": false
      },
      "cell_type": "code",
      "source": "anime[\"episodes\"] = anime[\"episodes\"].map(lambda x:np.nan if x==\"Unknown\" else x)",
      "execution_count": null,
      "outputs": []
    },
    {
      "metadata": {
        "_cell_guid": "a1c2fce2-b746-b0db-dfe0-5f6d513b956d",
        "_active": false,
        "_uuid": "2ee2e43a7ee758bdda54ceb3e0153b093746eb16",
        "trusted": false
      },
      "cell_type": "code",
      "source": "anime[\"episodes\"].fillna(anime[\"episodes\"].median(),inplace = True)",
      "execution_count": null,
      "outputs": []
    },
    {
      "metadata": {
        "_cell_guid": "eb8d01f6-ea41-51ad-8522-3c73879d5b07",
        "_active": false,
        "_uuid": "39c744032467f0c7f7fc68664a520c4cbf2c4ed7"
      },
      "cell_type": "markdown",
      "source": "### Rating \n\nMany animes have unknown ratings. These were filled with the median of the ratings."
    },
    {
      "metadata": {
        "_cell_guid": "487b44b8-223e-fcba-6ac3-f9d91dcecdb5",
        "_active": false,
        "_uuid": "5a550c98a308bd134e2a4871920247964f69f76e",
        "trusted": false
      },
      "cell_type": "code",
      "source": "anime[\"rating\"] = anime[\"rating\"].astype(float)",
      "execution_count": null,
      "outputs": []
    },
    {
      "metadata": {
        "_cell_guid": "a088d1c6-bcf1-1a2f-3538-a2262b457ad9",
        "_active": false,
        "_uuid": "c0ca22780e56c732ff50991aae20d9101250c29d",
        "trusted": false
      },
      "cell_type": "code",
      "source": "anime[\"rating\"].fillna(anime[\"rating\"].median(),inplace = True)",
      "execution_count": null,
      "outputs": []
    },
    {
      "metadata": {
        "_cell_guid": "30442d93-265b-dc00-2d45-e5f1e778e237",
        "_active": false,
        "_uuid": "7331226d6b5a2e994d99e4ee884dec5875daeb02"
      },
      "cell_type": "markdown",
      "source": "### Type \n\nType category differentiates between movies, music, TV shows(regular anime episodes), OVA/ONA etc. These are categorical variables so I used ```pd.get_dummies``` to convert them to dummy variables."
    },
    {
      "metadata": {
        "_cell_guid": "3729f3d2-4ee1-c987-7ff9-a828776893aa",
        "_active": false,
        "_uuid": "bd12c0ca9a627247157f7884a55c8317fc925fb4",
        "trusted": false
      },
      "cell_type": "code",
      "source": "pd.get_dummies(anime[[\"type\"]]).head()",
      "execution_count": null,
      "outputs": []
    },
    {
      "metadata": {
        "_cell_guid": "47e2859f-7555-ba67-5199-27c5aa3a24d9",
        "_active": false,
        "_uuid": "99450abc9be5e40900a0bd0c0bb6712d16599284"
      },
      "cell_type": "markdown",
      "source": "### Members\n\nJust converted the strings to float."
    },
    {
      "metadata": {
        "_cell_guid": "820faf27-4518-942e-baeb-3a0c8063e961",
        "_active": false,
        "_uuid": "376a3b9b6a4f8bd8c76abe24d6447f075b33c13f",
        "trusted": false
      },
      "cell_type": "code",
      "source": "anime[\"members\"] = anime[\"members\"].astype(float)",
      "execution_count": null,
      "outputs": []
    },
    {
      "metadata": {
        "_cell_guid": "1e79fc82-4b99-dd24-b1e5-f56d598da795",
        "_active": false,
        "_uuid": "656e69ed18760c71352355899f4f76b4c3823299",
        "trusted": false
      },
      "cell_type": "code",
      "source": "# anime_features = pd.concat([anime[\"genre\"].str.get_dummies(sep=\",\"),pd.get_dummies(anime[[\"type\"]]),anime[[\"rating\",\"episodes\"]]],axis=1)",
      "execution_count": null,
      "outputs": []
    },
    {
      "metadata": {
        "_cell_guid": "0239509d-b301-aca0-99de-17007f059f93",
        "_active": false,
        "_uuid": "afc6e47609ae11844af9ab1fad1726b23e8d6454"
      },
      "cell_type": "markdown",
      "source": "# Feature Selection and Preprocessing\n"
    },
    {
      "metadata": {
        "_cell_guid": "6be46648-1811-7794-e098-1c13d699b09b",
        "_active": false,
        "_uuid": "fadd5837047c0b04a16cd7c51724fc944929e4eb"
      },
      "cell_type": "markdown",
      "source": "Episode numbers, members and rating are different from categorical variables and very different in values. Rating ranges from 0-10 in the dataset while the episode number can be even 800+ episodes long when it comes to long running popular animes such as One Piece, Naruto etc. So I ended up using ```sklearn.preprocessing.MaxAbsScaler``` as it preserves the sparsity while scaing the values from 0-1."
    },
    {
      "metadata": {
        "_cell_guid": "46e9f1ac-58cf-c45b-6ba5-84db30efbe0d",
        "_active": true,
        "_uuid": "298adbf2e3a05894a8fd729052e52bd973d218d8",
        "trusted": false
      },
      "cell_type": "code",
      "source": "anime_features = pd.concat([anime[\"genre\"].str.get_dummies(sep=\",\"),pd.get_dummies(anime[[\"type\"]]),anime[[\"rating\"]],anime[[\"members\"]],anime[\"episodes\"]],axis=1)",
      "execution_count": null,
      "outputs": []
    },
    {
      "metadata": {
        "_cell_guid": "4caf495a-e65b-8328-7c9c-ba46d546f648",
        "_active": false,
        "_uuid": "a2113d1ec74de1af6f467214256ca008405a4073",
        "trusted": false
      },
      "cell_type": "code",
      "source": "anime[\"name\"] = anime[\"name\"].map(lambda name:re.sub('[^A-Za-z0-9]+', \" \", name))",
      "execution_count": null,
      "outputs": []
    },
    {
      "metadata": {
        "_cell_guid": "be5d6264-392c-4801-f0ec-ba1a70f51fa0",
        "_active": false,
        "_uuid": "15a8a212332a9dbd7039dc7731e02edb16241e05",
        "trusted": false
      },
      "cell_type": "code",
      "source": "anime_features.head()",
      "execution_count": null,
      "outputs": []
    },
    {
      "metadata": {
        "_cell_guid": "a15f6554-c164-ffcb-ac58-88448c4f8ee0",
        "_active": false,
        "_uuid": "7016a0feb2450063d40ed2ed9dbf719d7b862643",
        "trusted": false
      },
      "cell_type": "code",
      "source": "anime_features.columns",
      "execution_count": null,
      "outputs": []
    },
    {
      "metadata": {
        "_cell_guid": "03c2b28e-9609-96a3-8c67-0ede63d8270f",
        "_active": false,
        "_uuid": "907e5da424bac24e31f0b64bd542d126141c81c4",
        "trusted": false
      },
      "cell_type": "code",
      "source": "from sklearn.preprocessing import MaxAbsScaler",
      "execution_count": null,
      "outputs": []
    },
    {
      "metadata": {
        "_cell_guid": "c3df9ae1-acdc-d332-68af-31209e1e105b",
        "_active": false,
        "_uuid": "4f0985d92dbb12c3c4225b4598375edbbc8f1b3c",
        "trusted": false
      },
      "cell_type": "code",
      "source": "max_abs_scaler = MaxAbsScaler()\nanime_features = max_abs_scaler.fit_transform(anime_features)",
      "execution_count": null,
      "outputs": []
    },
    {
      "metadata": {
        "_cell_guid": "4750141f-2426-2df0-c799-8353cc20d6d8",
        "_active": false,
        "_uuid": "6413dfe634abfd8fff4fa33ce1bc1fc97d6077cf"
      },
      "cell_type": "markdown",
      "source": "# KNN for finding similar animes"
    },
    {
      "metadata": {
        "_cell_guid": "a6b43f39-98a6-bf5d-9161-eacad0b88724",
        "_active": false,
        "_uuid": "5f7e087f5920ecb9229feb23bb12bbbb916b8bba",
        "trusted": false
      },
      "cell_type": "code",
      "source": "from sklearn.neighbors import NearestNeighbors",
      "execution_count": null,
      "outputs": []
    },
    {
      "metadata": {
        "_cell_guid": "2ed20de9-e2a9-f5f1-ebce-f1bfb8535a72",
        "_active": false,
        "_uuid": "3c041f57c7b1224419231c2fbd1ae4093499f79b",
        "trusted": false
      },
      "cell_type": "code",
      "source": "nbrs = NearestNeighbors(n_neighbors=6, algorithm='ball_tree').fit(anime_features)",
      "execution_count": null,
      "outputs": []
    },
    {
      "metadata": {
        "_cell_guid": "22453726-49fa-1314-5b60-2abd182a2c7b",
        "_active": false,
        "_uuid": "de779b6570aae0b830900753c3ce3349c31adc9d",
        "trusted": false
      },
      "cell_type": "code",
      "source": "distances, indices = nbrs.kneighbors(anime_features)",
      "execution_count": null,
      "outputs": []
    },
    {
      "metadata": {
        "_cell_guid": "3c110c65-6c5d-6b43-51ff-21ae6629fd3c",
        "_active": false,
        "_uuid": "f65b0a7cf779df93cc5bd1f6e58f63ba74e87533"
      },
      "cell_type": "markdown",
      "source": "# Query examples and helper functions "
    },
    {
      "metadata": {
        "_cell_guid": "5b52cb95-5d63-7da2-c40e-9e5845e5d2c9",
        "_active": false,
        "_uuid": "6a8c3896cd110384d2b75aacbb3cb3819fc44e73",
        "trusted": false
      },
      "cell_type": "code",
      "source": "def get_index_from_name(name):\n    return anime[anime[\"name\"]==name].index.tolist()[0]\n    ",
      "execution_count": null,
      "outputs": []
    },
    {
      "metadata": {
        "_cell_guid": "38f407f6-00b4-8369-e51f-9e2d701a274e",
        "_active": false,
        "_uuid": "5043594352053e24e52082776dd03cf0b6cd8d52",
        "trusted": false
      },
      "cell_type": "code",
      "source": "get_index_from_name(\"Naruto\")",
      "execution_count": null,
      "outputs": []
    },
    {
      "metadata": {
        "_cell_guid": "31d7ce82-e6cf-0619-aad5-77cd536c1288",
        "_active": false,
        "_uuid": "efb02d1fc5f4306aa970b2b27915b2194e725c8e",
        "trusted": false
      },
      "cell_type": "code",
      "source": "distances[841]",
      "execution_count": null,
      "outputs": []
    },
    {
      "metadata": {
        "_cell_guid": "b2dcd52b-978c-86ae-822f-fb8a72d9474e",
        "_active": false,
        "_uuid": "727209aea25633547b32a8a6495243b254f40d36",
        "trusted": false
      },
      "cell_type": "code",
      "source": "indices[841]",
      "execution_count": null,
      "outputs": []
    },
    {
      "metadata": {
        "_cell_guid": "a167a16c-3f8f-e8b6-34e4-03df89f5fac7",
        "_active": false,
        "_uuid": "59b2c4b4c322636e74a7f5b9d7c7330db90db9b3"
      },
      "cell_type": "markdown",
      "source": "Many anime names have not been documented properly and in many cases the names are in Japanese instead of English and the spelling is often different. For that reason I've also created another helper function ```get_id_from_partial_name``` to find out ids of the animes from part of names."
    },
    {
      "metadata": {
        "_cell_guid": "e915d77a-2f2a-d2e2-3d20-d9ee6dae15f4",
        "_active": false,
        "_uuid": "8b4cacb4f9b83ed97a51b3a91dd80f9500f47dc4",
        "trusted": false
      },
      "cell_type": "code",
      "source": "all_anime_names = list(anime.name.values)",
      "execution_count": null,
      "outputs": []
    },
    {
      "metadata": {
        "_cell_guid": "e483caf0-8649-136d-80f1-58ddc5203e48",
        "_active": false,
        "_uuid": "43ec692eb8d8359ebc2d5f319fbf87dd7e0fef88",
        "trusted": false
      },
      "cell_type": "code",
      "source": "def get_id_from_partial_name(partial):\n    for name in all_anime_names:\n        if partial in name:\n            print(name,all_anime_names.index(name))",
      "execution_count": null,
      "outputs": []
    },
    {
      "metadata": {
        "_cell_guid": "97c389f8-4b5c-64eb-496e-02ed661b4378",
        "_active": false,
        "_uuid": "eadc206a380bfd8bed4f316aba3b08a8548043f0",
        "trusted": false
      },
      "cell_type": "code",
      "source": "\"\"\" print_similar_query can search for similar animes both by id and by name. \"\"\"\n\ndef print_similar_animes(query=None,id=None):\n    if id:\n        for id in indices[id][1:]:\n            print(anime.ix[id][\"name\"])\n    if query:\n        found_id = get_index_from_name(query)\n        for id in indices[found_id][1:]:\n            print(anime.ix[id][\"name\"])",
      "execution_count": null,
      "outputs": []
    },
    {
      "metadata": {
        "_cell_guid": "53d59815-7adb-f386-1a3d-99100e6bb5bb",
        "_active": false,
        "_uuid": "eaf2648a2993d198e2bf73b439cca9702ecf97f9"
      },
      "cell_type": "markdown",
      "source": "# Query Examples "
    },
    {
      "metadata": {
        "_cell_guid": "8594046c-3573-f6f9-fa4e-5c9336c2a582",
        "_active": false,
        "_uuid": "27d01e40ec47e5a3763dc2828171ed832366ac8b"
      },
      "cell_type": "markdown",
      "source": "<b> Naruto </b>\n    \nNaruto is a shounen manga and Naruto Shippuden, the 1st neighbor is the closest to it as its the second season. Even if Naruto has 220 episodes and Naruto Shippuden has 500 episodes, it appears that the model was able to find out the second season. I've watchd Katekyo Hitman Reborn too and its very similar to Naruto(I'm a big fan of both) in the story structure. Bleach, Dragon Ball Z are also long standing animes with under the same action,comedy, Shounen genre.\n\n![](http://s1.picswalls.com/wallpapers/2015/09/27/naruto-wallpaper_104044786_274.jpg)"
    },
    {
      "metadata": {
        "_cell_guid": "41b89978-58e4-84c9-232d-7272e33cfd91",
        "_active": false,
        "_uuid": "49ab78f7798489ad1bdabda9aef6b302777a4671",
        "trusted": false
      },
      "cell_type": "code",
      "source": "print_similar_animes(query=\"Naruto\")",
      "execution_count": null,
      "outputs": []
    },
    {
      "metadata": {
        "_cell_guid": "88cc98ae-bffe-876c-77f7-f737845c380f",
        "_active": false,
        "_uuid": "3b09b020a3a8917efc92eb92ccb5c613a4a03f19"
      },
      "cell_type": "markdown",
      "source": "<b> Noragami(Stray God).</b>\n\nNoragami is a supernatural manga featuring Japanese Shinto Gods. Noragami Aragoto is the 2nd season. I've not seen the other ones, but they seem to be very highly rated too.\n\n![](http://thisisanothercastle.files.wordpress.com/2014/04/noragami-title2.jpg)"
    },
    {
      "metadata": {
        "_cell_guid": "40e1210f-5325-f9ce-1450-37995989e54b",
        "_active": false,
        "_uuid": "f7ef278f9b13e100fc6debe81c96c4d42614ee41",
        "trusted": false
      },
      "cell_type": "code",
      "source": "print_similar_animes(\"Noragami\")",
      "execution_count": null,
      "outputs": []
    },
    {
      "metadata": {
        "_cell_guid": "1532491b-c327-09cf-3eff-d155794e3ed4",
        "_active": false,
        "_uuid": "15cca05652d3c4c1707dee333623857fe18e754b"
      },
      "cell_type": "markdown",
      "source": "<b>Mushishi, Gintama, Fairy Tail</b> \n\nI just checked Mushishi and Gintama because my sister asked me to, but looks like we are getting pretty good results. Fairy Tail is about a magical guild, the 1st neighbor is Fairy Tail 2014, when the anime was re-made. The other neighbors seem to be magical anime's too."
    },
    {
      "metadata": {
        "_cell_guid": "3ac58ce1-2be8-0769-53cd-faaa05c44891",
        "_active": false,
        "_uuid": "52257a73d4e59ec4c64d36813f2059dc526984bf",
        "trusted": false
      },
      "cell_type": "code",
      "source": "print_similar_animes(\"Mushishi\")",
      "execution_count": null,
      "outputs": []
    },
    {
      "metadata": {
        "_cell_guid": "36fa151f-ccc6-6893-7a3c-ca4d9a94e90b",
        "_active": false,
        "_uuid": "b3a09e6348ebcae84073f023c1823ba7101c7e73",
        "trusted": false
      },
      "cell_type": "code",
      "source": "print_similar_animes(\"Gintama\")",
      "execution_count": null,
      "outputs": []
    },
    {
      "metadata": {
        "_cell_guid": "39272768-a4d0-db4c-6622-dc9161ead78a",
        "_active": false,
        "_uuid": "f7bff4a0b0224f9cdf99a6282b9c682cba058ba2",
        "trusted": false
      },
      "cell_type": "code",
      "source": "print_similar_animes(\"Fairy Tail\")",
      "execution_count": null,
      "outputs": []
    },
    {
      "metadata": {
        "_cell_guid": "3a02efe7-9c2a-4f82-bbdc-7e791adb430b",
        "_active": false,
        "_uuid": "5a713176e9eeba7be5ef8dfaceb826f4afaafdeb"
      },
      "cell_type": "markdown",
      "source": ""
    }
  ],
  "metadata": {
    "kernelspec": {
      "display_name": "Python 3",
      "language": "python",
      "name": "python3"
    },
    "language_info": {
      "codemirror_mode": {
        "name": "ipython",
        "version": 3
      },
      "file_extension": ".py",
      "mimetype": "text/x-python",
      "name": "python",
      "nbconvert_exporter": "python",
      "pygments_lexer": "ipython3",
      "version": "3.6.0"
    }
  },
  "nbformat": 4,
  "nbformat_minor": 1
}