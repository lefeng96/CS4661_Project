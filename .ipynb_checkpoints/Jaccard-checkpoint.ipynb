{
 "cells": [
  {
   "cell_type": "markdown",
   "metadata": {},
   "source": [
    "# Finding Similar Anime By Genre\n",
    "\n",
    "An anime finder by genre using simple feature and jaccard similarity score. "
   ]
  },
  {
   "cell_type": "code",
   "execution_count": null,
   "metadata": {},
   "outputs": [],
   "source": [
    "import numpy as np\n",
    "import pandas as pd\n",
    "import itertools\n",
    "import collections\n",
    "import seaborn as sns\n",
    "import matplotlib.pyplot as plt\n",
    "from sklearn.metrics import jaccard_similarity_score"
   ]
  },
  {
   "cell_type": "markdown",
   "metadata": {},
   "source": [
    "# Preprocessing\n",
    "\n",
    "We split the genre in preprocessing, so later we can turn them to features."
   ]
  },
  {
   "cell_type": "code",
   "execution_count": null,
   "metadata": {},
   "outputs": [],
   "source": [
    "animes = pd.read_csv(\"anime.csv\") \n",
    "\n",
    "animes['genre'] = animes['genre'].fillna('None')\n",
    "animes['genre'] = animes['genre'].apply(lambda x: x.split(', '))\n",
    "\n",
    "genre_data = itertools.chain(*animes['genre'].values.tolist())\n",
    "genre_counter = collections.Counter(genre_data)\n",
    "genres = pd.DataFrame.from_dict(genre_counter, orient='index').reset_index().rename(columns={'index':'genre', 0:'count'})\n",
    "genres.sort_values('count', ascending=False, inplace=True)\n",
    "\n",
    "print(genres)"
   ]
  },
  {
   "cell_type": "markdown",
   "metadata": {},
   "source": [
    "# Feature Extraction\n",
    "The feature extraction is simple, a binary encoded vector of genre.\n",
    "\n",
    "this shows which feature/genre each show has in binary (by id)"
   ]
  },
  {
   "cell_type": "code",
   "execution_count": null,
   "metadata": {
    "scrolled": false
   },
   "outputs": [],
   "source": [
    "genre_map = {genre: idx for idx, genre in enumerate(genre_counter.keys())}\n",
    "def extract_feature(genre):\n",
    "    feature = np.zeros(len(genre_map.keys()), dtype=int)\n",
    "    feature[[genre_map[idx] for idx in genre]] += 1\n",
    "    return feature\n",
    "    \n",
    "anime_feature = pd.concat([animes['name'], animes['genre']], axis=1)\n",
    "anime_feature['genre'] = anime_feature['genre'].apply(lambda x: extract_feature(x))\n",
    "print(anime_feature.head(30))"
   ]
  },
  {
   "cell_type": "markdown",
   "metadata": {},
   "source": [
    "# Testing"
   ]
  },
  {
   "cell_type": "code",
   "execution_count": null,
   "metadata": {},
   "outputs": [],
   "source": [
    "test_data = anime_feature.take([841, 111, 0, 23])\n",
    "for row in test_data.iterrows():\n",
    "    print('Similar anime like {}:'.format(row[1]['name']))\n",
    "    search = anime_feature.drop([row[0]]) # drop current anime\n",
    "    search['result'] = search['genre'].apply(lambda x: jaccard_similarity_score(row[1]['genre'], x))\n",
    "    search_result = search.sort_values('result', ascending=False)['name'].head(10)\n",
    "    for res in search_result.values:\n",
    "        print('\\t{}'.format(res))\n",
    "    print()"
   ]
  },
  {
   "cell_type": "code",
   "execution_count": null,
   "metadata": {},
   "outputs": [],
   "source": [
    "# for row in anime_feature.iterrows():\n",
    "#     print('Similar anime like {}:'.format(row[1]['name']))\n",
    "#     search = anime_feature.drop([row[0]])\n",
    "#     search['result'] = search['genre'].apply(lambda x: jaccard_similarity_score(row[1]['genre'], x))\n",
    "#     search_result = search.sort_values('result', ascending=False)['name'].head(5)\n",
    "#     for res in search_result.values:\n",
    "#         print('\\t{}'.format(res))"
   ]
  },
  {
   "cell_type": "code",
   "execution_count": null,
   "metadata": {},
   "outputs": [],
   "source": []
  },
  {
   "cell_type": "code",
   "execution_count": null,
   "metadata": {},
   "outputs": [],
   "source": []
  }
 ],
 "metadata": {
  "kernelspec": {
   "display_name": "Python 3",
   "language": "python",
   "name": "python3"
  },
  "language_info": {
   "codemirror_mode": {
    "name": "ipython",
    "version": 3
   },
   "file_extension": ".py",
   "mimetype": "text/x-python",
   "name": "python",
   "nbconvert_exporter": "python",
   "pygments_lexer": "ipython3",
   "version": "3.7.0"
  }
 },
 "nbformat": 4,
 "nbformat_minor": 2
}
