{
 "cells": [
  {
   "cell_type": "markdown",
   "metadata": {
    "_active": false,
    "_cell_guid": "4c558693-ea15-43e8-93ac-0bd09ffa3fe7",
    "_uuid": "05f2a5626acb99e5744e5f4b65addb27ecb39d45"
   },
   "source": [
    "Using KNN to recommend anime"
   ]
  },
  {
   "cell_type": "code",
   "execution_count": 121,
   "metadata": {
    "_active": false,
    "_cell_guid": "3d40a89f-c9ef-85fe-7939-f69d50cc9bc8",
    "_uuid": "74bf1f0bc7c4b9eff205e188783a195332eda984"
   },
   "outputs": [],
   "source": [
    "import numpy as np\n",
    "import pandas as pd\n",
    "import matplotlib.pyplot as plt\n",
    "import re\n",
    "import seaborn as sns\n",
    "%matplotlib inline"
   ]
  },
  {
   "cell_type": "code",
   "execution_count": 150,
   "metadata": {
    "_active": false,
    "_cell_guid": "b7a8ab77-0059-f73c-d7b1-82eac9b111c9",
    "_uuid": "574525ae2b8a010ef5ebff3b047e510801edc905"
   },
   "outputs": [],
   "source": [
    "anime = pd.read_csv(\"anime.csv\")"
   ]
  },
  {
   "cell_type": "code",
   "execution_count": 151,
   "metadata": {
    "_active": false,
    "_cell_guid": "43808df8-9c5c-5d0b-3c74-0a1801662302",
    "_uuid": "38e104e8024ac63f05b4884cb49f90d26a936bdb"
   },
   "outputs": [
    {
     "data": {
      "text/html": [
       "<div>\n",
       "<style scoped>\n",
       "    .dataframe tbody tr th:only-of-type {\n",
       "        vertical-align: middle;\n",
       "    }\n",
       "\n",
       "    .dataframe tbody tr th {\n",
       "        vertical-align: top;\n",
       "    }\n",
       "\n",
       "    .dataframe thead th {\n",
       "        text-align: right;\n",
       "    }\n",
       "</style>\n",
       "<table border=\"1\" class=\"dataframe\">\n",
       "  <thead>\n",
       "    <tr style=\"text-align: right;\">\n",
       "      <th></th>\n",
       "      <th>anime_id</th>\n",
       "      <th>name</th>\n",
       "      <th>genre</th>\n",
       "      <th>type</th>\n",
       "      <th>episodes</th>\n",
       "      <th>rating</th>\n",
       "      <th>members</th>\n",
       "    </tr>\n",
       "  </thead>\n",
       "  <tbody>\n",
       "    <tr>\n",
       "      <th>0</th>\n",
       "      <td>32281</td>\n",
       "      <td>Kimi no Na wa.</td>\n",
       "      <td>Drama, Romance, School, Supernatural</td>\n",
       "      <td>Movie</td>\n",
       "      <td>1</td>\n",
       "      <td>9.37</td>\n",
       "      <td>200630</td>\n",
       "    </tr>\n",
       "    <tr>\n",
       "      <th>1</th>\n",
       "      <td>5114</td>\n",
       "      <td>Fullmetal Alchemist: Brotherhood</td>\n",
       "      <td>Action, Adventure, Drama, Fantasy, Magic, Mili...</td>\n",
       "      <td>TV</td>\n",
       "      <td>64</td>\n",
       "      <td>9.26</td>\n",
       "      <td>793665</td>\n",
       "    </tr>\n",
       "    <tr>\n",
       "      <th>2</th>\n",
       "      <td>28977</td>\n",
       "      <td>Gintama°</td>\n",
       "      <td>Action, Comedy, Historical, Parody, Samurai, S...</td>\n",
       "      <td>TV</td>\n",
       "      <td>51</td>\n",
       "      <td>9.25</td>\n",
       "      <td>114262</td>\n",
       "    </tr>\n",
       "    <tr>\n",
       "      <th>3</th>\n",
       "      <td>9253</td>\n",
       "      <td>Steins;Gate</td>\n",
       "      <td>Sci-Fi, Thriller</td>\n",
       "      <td>TV</td>\n",
       "      <td>24</td>\n",
       "      <td>9.17</td>\n",
       "      <td>673572</td>\n",
       "    </tr>\n",
       "    <tr>\n",
       "      <th>4</th>\n",
       "      <td>9969</td>\n",
       "      <td>Gintama&amp;#039;</td>\n",
       "      <td>Action, Comedy, Historical, Parody, Samurai, S...</td>\n",
       "      <td>TV</td>\n",
       "      <td>51</td>\n",
       "      <td>9.16</td>\n",
       "      <td>151266</td>\n",
       "    </tr>\n",
       "    <tr>\n",
       "      <th>5</th>\n",
       "      <td>32935</td>\n",
       "      <td>Haikyuu!!: Karasuno Koukou VS Shiratorizawa Ga...</td>\n",
       "      <td>Comedy, Drama, School, Shounen, Sports</td>\n",
       "      <td>TV</td>\n",
       "      <td>10</td>\n",
       "      <td>9.15</td>\n",
       "      <td>93351</td>\n",
       "    </tr>\n",
       "    <tr>\n",
       "      <th>6</th>\n",
       "      <td>11061</td>\n",
       "      <td>Hunter x Hunter (2011)</td>\n",
       "      <td>Action, Adventure, Shounen, Super Power</td>\n",
       "      <td>TV</td>\n",
       "      <td>148</td>\n",
       "      <td>9.13</td>\n",
       "      <td>425855</td>\n",
       "    </tr>\n",
       "    <tr>\n",
       "      <th>7</th>\n",
       "      <td>820</td>\n",
       "      <td>Ginga Eiyuu Densetsu</td>\n",
       "      <td>Drama, Military, Sci-Fi, Space</td>\n",
       "      <td>OVA</td>\n",
       "      <td>110</td>\n",
       "      <td>9.11</td>\n",
       "      <td>80679</td>\n",
       "    </tr>\n",
       "    <tr>\n",
       "      <th>8</th>\n",
       "      <td>15335</td>\n",
       "      <td>Gintama Movie: Kanketsu-hen - Yorozuya yo Eien...</td>\n",
       "      <td>Action, Comedy, Historical, Parody, Samurai, S...</td>\n",
       "      <td>Movie</td>\n",
       "      <td>1</td>\n",
       "      <td>9.10</td>\n",
       "      <td>72534</td>\n",
       "    </tr>\n",
       "    <tr>\n",
       "      <th>9</th>\n",
       "      <td>15417</td>\n",
       "      <td>Gintama&amp;#039;: Enchousen</td>\n",
       "      <td>Action, Comedy, Historical, Parody, Samurai, S...</td>\n",
       "      <td>TV</td>\n",
       "      <td>13</td>\n",
       "      <td>9.11</td>\n",
       "      <td>81109</td>\n",
       "    </tr>\n",
       "  </tbody>\n",
       "</table>\n",
       "</div>"
      ],
      "text/plain": [
       "   anime_id                                               name  \\\n",
       "0     32281                                     Kimi no Na wa.   \n",
       "1      5114                   Fullmetal Alchemist: Brotherhood   \n",
       "2     28977                                           Gintama°   \n",
       "3      9253                                        Steins;Gate   \n",
       "4      9969                                      Gintama&#039;   \n",
       "5     32935  Haikyuu!!: Karasuno Koukou VS Shiratorizawa Ga...   \n",
       "6     11061                             Hunter x Hunter (2011)   \n",
       "7       820                               Ginga Eiyuu Densetsu   \n",
       "8     15335  Gintama Movie: Kanketsu-hen - Yorozuya yo Eien...   \n",
       "9     15417                           Gintama&#039;: Enchousen   \n",
       "\n",
       "                                               genre   type episodes  rating  \\\n",
       "0               Drama, Romance, School, Supernatural  Movie        1    9.37   \n",
       "1  Action, Adventure, Drama, Fantasy, Magic, Mili...     TV       64    9.26   \n",
       "2  Action, Comedy, Historical, Parody, Samurai, S...     TV       51    9.25   \n",
       "3                                   Sci-Fi, Thriller     TV       24    9.17   \n",
       "4  Action, Comedy, Historical, Parody, Samurai, S...     TV       51    9.16   \n",
       "5             Comedy, Drama, School, Shounen, Sports     TV       10    9.15   \n",
       "6            Action, Adventure, Shounen, Super Power     TV      148    9.13   \n",
       "7                     Drama, Military, Sci-Fi, Space    OVA      110    9.11   \n",
       "8  Action, Comedy, Historical, Parody, Samurai, S...  Movie        1    9.10   \n",
       "9  Action, Comedy, Historical, Parody, Samurai, S...     TV       13    9.11   \n",
       "\n",
       "   members  \n",
       "0   200630  \n",
       "1   793665  \n",
       "2   114262  \n",
       "3   673572  \n",
       "4   151266  \n",
       "5    93351  \n",
       "6   425855  \n",
       "7    80679  \n",
       "8    72534  \n",
       "9    81109  "
      ]
     },
     "execution_count": 151,
     "metadata": {},
     "output_type": "execute_result"
    }
   ],
   "source": [
    "anime.head(10)"
   ]
  },
  {
   "cell_type": "markdown",
   "metadata": {},
   "source": [
    "# Rating"
   ]
  },
  {
   "cell_type": "code",
   "execution_count": 152,
   "metadata": {},
   "outputs": [],
   "source": [
    "anime[\"rating\"] = anime[\"rating\"].astype(float)\n",
    "anime[\"rating\"].fillna(anime[\"rating\"].median(),inplace = True)"
   ]
  },
  {
   "cell_type": "code",
   "execution_count": 155,
   "metadata": {},
   "outputs": [],
   "source": [
    "anime.loc[(anime[\"genre\"]==\"Hentai\") & (anime[\"episodes\"]==\"Unknown\"),\"episodes\"] = \"1\"\n",
    "anime.loc[(anime[\"type\"]==\"OVA\") & (anime[\"episodes\"]==\"Unknown\"),\"episodes\"] = \"1\"\n",
    "anime.loc[(anime[\"type\"]==\"Special\") & (anime[\"episodes\"]==\"Unknown\"),\"episodes\"] = \"1\"\n",
    "\n",
    "anime.loc[(anime[\"type\"] == \"Movie\") & (anime[\"episodes\"] == \"Unknown\")] = \"1\"\n",
    "known_animes = {\"One Piece\":850,\"Detective Conan\":900,\"Crayon Shin chan\":942}\n",
    "for k,v in known_animes.items():    \n",
    "    anime.loc[anime[\"name\"]==k,\"episodes\"] = v\n",
    "anime[\"episodes\"] = anime[\"episodes\"].map(lambda x:np.nan if x==\"Unknown\" else x)\n",
    "anime[\"episodes\"].fillna(anime[\"episodes\"].median(),inplace = True)"
   ]
  },
  {
   "cell_type": "markdown",
   "metadata": {
    "_active": false,
    "_cell_guid": "47e2859f-7555-ba67-5199-27c5aa3a24d9",
    "_uuid": "99450abc9be5e40900a0bd0c0bb6712d16599284"
   },
   "source": [
    "### Members\n",
    "\n",
    "Just converted the strings to float."
   ]
  },
  {
   "cell_type": "code",
   "execution_count": 156,
   "metadata": {
    "_active": false,
    "_cell_guid": "820faf27-4518-942e-baeb-3a0c8063e961",
    "_uuid": "376a3b9b6a4f8bd8c76abe24d6447f075b33c13f"
   },
   "outputs": [],
   "source": [
    "anime[\"members\"] = anime[\"members\"].astype(float)"
   ]
  },
  {
   "cell_type": "markdown",
   "metadata": {
    "_active": false,
    "_cell_guid": "0239509d-b301-aca0-99de-17007f059f93",
    "_uuid": "afc6e47609ae11844af9ab1fad1726b23e8d6454"
   },
   "source": [
    "# Feature Selection and Preprocessing\n"
   ]
  },
  {
   "cell_type": "markdown",
   "metadata": {
    "_active": false,
    "_cell_guid": "6be46648-1811-7794-e098-1c13d699b09b",
    "_uuid": "fadd5837047c0b04a16cd7c51724fc944929e4eb"
   },
   "source": [
    "Episode numbers, members and rating are different from categorical variables and very different in values. Rating ranges from 0-10 in the dataset while the episode number can be even 800+ episodes long when it comes to long running popular animes such as One Piece, Naruto etc. So I ended up using ```sklearn.preprocessing.MaxAbsScaler``` as it preserves the sparsity while scaing the values from 0-1."
   ]
  },
  {
   "cell_type": "code",
   "execution_count": 157,
   "metadata": {
    "_active": true,
    "_cell_guid": "46e9f1ac-58cf-c45b-6ba5-84db30efbe0d",
    "_uuid": "298adbf2e3a05894a8fd729052e52bd973d218d8"
   },
   "outputs": [],
   "source": [
    "anime_features = pd.concat([anime[\"genre\"].str.get_dummies(sep=\",\"),pd.get_dummies(anime[[\"type\"]]),anime[[\"rating\"]],anime[[\"members\"]],anime[\"episodes\"]],axis=1)"
   ]
  },
  {
   "cell_type": "code",
   "execution_count": 158,
   "metadata": {
    "_active": false,
    "_cell_guid": "4caf495a-e65b-8328-7c9c-ba46d546f648",
    "_uuid": "a2113d1ec74de1af6f467214256ca008405a4073"
   },
   "outputs": [],
   "source": [
    "anime[\"name\"] = anime[\"name\"].map(lambda name:re.sub('[^A-Za-z0-9]+', \" \", name))"
   ]
  },
  {
   "cell_type": "code",
   "execution_count": 159,
   "metadata": {
    "_active": false,
    "_cell_guid": "be5d6264-392c-4801-f0ec-ba1a70f51fa0",
    "_uuid": "15a8a212332a9dbd7039dc7731e02edb16241e05"
   },
   "outputs": [
    {
     "data": {
      "text/html": [
       "<div>\n",
       "<style scoped>\n",
       "    .dataframe tbody tr th:only-of-type {\n",
       "        vertical-align: middle;\n",
       "    }\n",
       "\n",
       "    .dataframe tbody tr th {\n",
       "        vertical-align: top;\n",
       "    }\n",
       "\n",
       "    .dataframe thead th {\n",
       "        text-align: right;\n",
       "    }\n",
       "</style>\n",
       "<table border=\"1\" class=\"dataframe\">\n",
       "  <thead>\n",
       "    <tr style=\"text-align: right;\">\n",
       "      <th></th>\n",
       "      <th>Adventure</th>\n",
       "      <th>Cars</th>\n",
       "      <th>Comedy</th>\n",
       "      <th>Dementia</th>\n",
       "      <th>Demons</th>\n",
       "      <th>Drama</th>\n",
       "      <th>Ecchi</th>\n",
       "      <th>Fantasy</th>\n",
       "      <th>Game</th>\n",
       "      <th>Harem</th>\n",
       "      <th>...</th>\n",
       "      <th>type_1</th>\n",
       "      <th>type_Movie</th>\n",
       "      <th>type_Music</th>\n",
       "      <th>type_ONA</th>\n",
       "      <th>type_OVA</th>\n",
       "      <th>type_Special</th>\n",
       "      <th>type_TV</th>\n",
       "      <th>rating</th>\n",
       "      <th>members</th>\n",
       "      <th>episodes</th>\n",
       "    </tr>\n",
       "  </thead>\n",
       "  <tbody>\n",
       "    <tr>\n",
       "      <th>0</th>\n",
       "      <td>0</td>\n",
       "      <td>0</td>\n",
       "      <td>0</td>\n",
       "      <td>0</td>\n",
       "      <td>0</td>\n",
       "      <td>0</td>\n",
       "      <td>0</td>\n",
       "      <td>0</td>\n",
       "      <td>0</td>\n",
       "      <td>0</td>\n",
       "      <td>...</td>\n",
       "      <td>0</td>\n",
       "      <td>1</td>\n",
       "      <td>0</td>\n",
       "      <td>0</td>\n",
       "      <td>0</td>\n",
       "      <td>0</td>\n",
       "      <td>0</td>\n",
       "      <td>9.37</td>\n",
       "      <td>200630.0</td>\n",
       "      <td>1</td>\n",
       "    </tr>\n",
       "    <tr>\n",
       "      <th>1</th>\n",
       "      <td>1</td>\n",
       "      <td>0</td>\n",
       "      <td>0</td>\n",
       "      <td>0</td>\n",
       "      <td>0</td>\n",
       "      <td>1</td>\n",
       "      <td>0</td>\n",
       "      <td>1</td>\n",
       "      <td>0</td>\n",
       "      <td>0</td>\n",
       "      <td>...</td>\n",
       "      <td>0</td>\n",
       "      <td>0</td>\n",
       "      <td>0</td>\n",
       "      <td>0</td>\n",
       "      <td>0</td>\n",
       "      <td>0</td>\n",
       "      <td>1</td>\n",
       "      <td>9.26</td>\n",
       "      <td>793665.0</td>\n",
       "      <td>64</td>\n",
       "    </tr>\n",
       "    <tr>\n",
       "      <th>2</th>\n",
       "      <td>0</td>\n",
       "      <td>0</td>\n",
       "      <td>1</td>\n",
       "      <td>0</td>\n",
       "      <td>0</td>\n",
       "      <td>0</td>\n",
       "      <td>0</td>\n",
       "      <td>0</td>\n",
       "      <td>0</td>\n",
       "      <td>0</td>\n",
       "      <td>...</td>\n",
       "      <td>0</td>\n",
       "      <td>0</td>\n",
       "      <td>0</td>\n",
       "      <td>0</td>\n",
       "      <td>0</td>\n",
       "      <td>0</td>\n",
       "      <td>1</td>\n",
       "      <td>9.25</td>\n",
       "      <td>114262.0</td>\n",
       "      <td>51</td>\n",
       "    </tr>\n",
       "    <tr>\n",
       "      <th>3</th>\n",
       "      <td>0</td>\n",
       "      <td>0</td>\n",
       "      <td>0</td>\n",
       "      <td>0</td>\n",
       "      <td>0</td>\n",
       "      <td>0</td>\n",
       "      <td>0</td>\n",
       "      <td>0</td>\n",
       "      <td>0</td>\n",
       "      <td>0</td>\n",
       "      <td>...</td>\n",
       "      <td>0</td>\n",
       "      <td>0</td>\n",
       "      <td>0</td>\n",
       "      <td>0</td>\n",
       "      <td>0</td>\n",
       "      <td>0</td>\n",
       "      <td>1</td>\n",
       "      <td>9.17</td>\n",
       "      <td>673572.0</td>\n",
       "      <td>24</td>\n",
       "    </tr>\n",
       "    <tr>\n",
       "      <th>4</th>\n",
       "      <td>0</td>\n",
       "      <td>0</td>\n",
       "      <td>1</td>\n",
       "      <td>0</td>\n",
       "      <td>0</td>\n",
       "      <td>0</td>\n",
       "      <td>0</td>\n",
       "      <td>0</td>\n",
       "      <td>0</td>\n",
       "      <td>0</td>\n",
       "      <td>...</td>\n",
       "      <td>0</td>\n",
       "      <td>0</td>\n",
       "      <td>0</td>\n",
       "      <td>0</td>\n",
       "      <td>0</td>\n",
       "      <td>0</td>\n",
       "      <td>1</td>\n",
       "      <td>9.16</td>\n",
       "      <td>151266.0</td>\n",
       "      <td>51</td>\n",
       "    </tr>\n",
       "  </tbody>\n",
       "</table>\n",
       "<p>5 rows × 93 columns</p>\n",
       "</div>"
      ],
      "text/plain": [
       "    Adventure   Cars   Comedy   Dementia   Demons   Drama   Ecchi   Fantasy  \\\n",
       "0           0      0        0          0        0       0       0         0   \n",
       "1           1      0        0          0        0       1       0         1   \n",
       "2           0      0        1          0        0       0       0         0   \n",
       "3           0      0        0          0        0       0       0         0   \n",
       "4           0      0        1          0        0       0       0         0   \n",
       "\n",
       "    Game   Harem    ...     type_1  type_Movie  type_Music  type_ONA  \\\n",
       "0      0       0    ...          0           1           0         0   \n",
       "1      0       0    ...          0           0           0         0   \n",
       "2      0       0    ...          0           0           0         0   \n",
       "3      0       0    ...          0           0           0         0   \n",
       "4      0       0    ...          0           0           0         0   \n",
       "\n",
       "   type_OVA  type_Special  type_TV  rating   members  episodes  \n",
       "0         0             0        0    9.37  200630.0         1  \n",
       "1         0             0        1    9.26  793665.0        64  \n",
       "2         0             0        1    9.25  114262.0        51  \n",
       "3         0             0        1    9.17  673572.0        24  \n",
       "4         0             0        1    9.16  151266.0        51  \n",
       "\n",
       "[5 rows x 93 columns]"
      ]
     },
     "execution_count": 159,
     "metadata": {},
     "output_type": "execute_result"
    }
   ],
   "source": [
    "anime_features.head()"
   ]
  },
  {
   "cell_type": "code",
   "execution_count": 160,
   "metadata": {
    "_active": false,
    "_cell_guid": "a15f6554-c164-ffcb-ac58-88448c4f8ee0",
    "_uuid": "7016a0feb2450063d40ed2ed9dbf719d7b862643"
   },
   "outputs": [
    {
     "data": {
      "text/plain": [
       "Index([' Adventure', ' Cars', ' Comedy', ' Dementia', ' Demons', ' Drama',\n",
       "       ' Ecchi', ' Fantasy', ' Game', ' Harem', ' Hentai', ' Historical',\n",
       "       ' Horror', ' Josei', ' Kids', ' Magic', ' Martial Arts', ' Mecha',\n",
       "       ' Military', ' Music', ' Mystery', ' Parody', ' Police',\n",
       "       ' Psychological', ' Romance', ' Samurai', ' School', ' Sci-Fi',\n",
       "       ' Seinen', ' Shoujo', ' Shoujo Ai', ' Shounen', ' Shounen Ai',\n",
       "       ' Slice of Life', ' Space', ' Sports', ' Super Power', ' Supernatural',\n",
       "       ' Thriller', ' Vampire', ' Yaoi', ' Yuri', '1', 'Action', 'Adventure',\n",
       "       'Cars', 'Comedy', 'Dementia', 'Demons', 'Drama', 'Ecchi', 'Fantasy',\n",
       "       'Game', 'Harem', 'Hentai', 'Historical', 'Horror', 'Josei', 'Kids',\n",
       "       'Magic', 'Martial Arts', 'Mecha', 'Military', 'Music', 'Mystery',\n",
       "       'Parody', 'Police', 'Psychological', 'Romance', 'Samurai', 'School',\n",
       "       'Sci-Fi', 'Seinen', 'Shoujo', 'Shounen', 'Slice of Life', 'Space',\n",
       "       'Sports', 'Super Power', 'Supernatural', 'Thriller', 'Vampire', 'Yaoi',\n",
       "       'type_1', 'type_Movie', 'type_Music', 'type_ONA', 'type_OVA',\n",
       "       'type_Special', 'type_TV', 'rating', 'members', 'episodes'],\n",
       "      dtype='object')"
      ]
     },
     "execution_count": 160,
     "metadata": {},
     "output_type": "execute_result"
    }
   ],
   "source": [
    "anime_features.columns"
   ]
  },
  {
   "cell_type": "code",
   "execution_count": 161,
   "metadata": {
    "_active": false,
    "_cell_guid": "03c2b28e-9609-96a3-8c67-0ede63d8270f",
    "_uuid": "907e5da424bac24e31f0b64bd542d126141c81c4"
   },
   "outputs": [],
   "source": [
    "from sklearn.preprocessing import MaxAbsScaler"
   ]
  },
  {
   "cell_type": "code",
   "execution_count": 162,
   "metadata": {
    "_active": false,
    "_cell_guid": "c3df9ae1-acdc-d332-68af-31209e1e105b",
    "_uuid": "4f0985d92dbb12c3c4225b4598375edbbc8f1b3c"
   },
   "outputs": [],
   "source": [
    "max_abs_scaler = MaxAbsScaler()\n",
    "anime_features = max_abs_scaler.fit_transform(anime_features)"
   ]
  },
  {
   "cell_type": "markdown",
   "metadata": {
    "_active": false,
    "_cell_guid": "4750141f-2426-2df0-c799-8353cc20d6d8",
    "_uuid": "6413dfe634abfd8fff4fa33ce1bc1fc97d6077cf"
   },
   "source": [
    "# KNN for finding similar animes"
   ]
  },
  {
   "cell_type": "code",
   "execution_count": 163,
   "metadata": {
    "_active": false,
    "_cell_guid": "a6b43f39-98a6-bf5d-9161-eacad0b88724",
    "_uuid": "5f7e087f5920ecb9229feb23bb12bbbb916b8bba"
   },
   "outputs": [],
   "source": [
    "from sklearn.neighbors import NearestNeighbors"
   ]
  },
  {
   "cell_type": "code",
   "execution_count": 164,
   "metadata": {
    "_active": false,
    "_cell_guid": "2ed20de9-e2a9-f5f1-ebce-f1bfb8535a72",
    "_uuid": "3c041f57c7b1224419231c2fbd1ae4093499f79b"
   },
   "outputs": [],
   "source": [
    "nbrs = NearestNeighbors(n_neighbors=6, algorithm='ball_tree').fit(anime_features)"
   ]
  },
  {
   "cell_type": "code",
   "execution_count": 165,
   "metadata": {
    "_active": false,
    "_cell_guid": "22453726-49fa-1314-5b60-2abd182a2c7b",
    "_uuid": "de779b6570aae0b830900753c3ce3349c31adc9d"
   },
   "outputs": [],
   "source": [
    "distances, indices = nbrs.kneighbors(anime_features)"
   ]
  },
  {
   "cell_type": "markdown",
   "metadata": {
    "_active": false,
    "_cell_guid": "3c110c65-6c5d-6b43-51ff-21ae6629fd3c",
    "_uuid": "f65b0a7cf779df93cc5bd1f6e58f63ba74e87533"
   },
   "source": [
    "# Query examples and helper functions "
   ]
  },
  {
   "cell_type": "code",
   "execution_count": 166,
   "metadata": {
    "_active": false,
    "_cell_guid": "5b52cb95-5d63-7da2-c40e-9e5845e5d2c9",
    "_uuid": "6a8c3896cd110384d2b75aacbb3cb3819fc44e73"
   },
   "outputs": [],
   "source": [
    "def get_index_from_name(name):\n",
    "    return anime[anime[\"name\"]==name].index.tolist()[0]\n",
    "    "
   ]
  },
  {
   "cell_type": "markdown",
   "metadata": {
    "_active": false,
    "_cell_guid": "a167a16c-3f8f-e8b6-34e4-03df89f5fac7",
    "_uuid": "59b2c4b4c322636e74a7f5b9d7c7330db90db9b3"
   },
   "source": [
    "Many anime names have not been documented properly and in many cases the names are in Japanese instead of English and the spelling is often different. For that reason I've also created another helper function ```get_id_from_partial_name``` to find out ids of the animes from part of names."
   ]
  },
  {
   "cell_type": "code",
   "execution_count": 171,
   "metadata": {
    "_active": false,
    "_cell_guid": "e915d77a-2f2a-d2e2-3d20-d9ee6dae15f4",
    "_uuid": "8b4cacb4f9b83ed97a51b3a91dd80f9500f47dc4"
   },
   "outputs": [],
   "source": [
    "all_anime_names = list(anime.name.values)"
   ]
  },
  {
   "cell_type": "code",
   "execution_count": 172,
   "metadata": {
    "_active": false,
    "_cell_guid": "e483caf0-8649-136d-80f1-58ddc5203e48",
    "_uuid": "43ec692eb8d8359ebc2d5f319fbf87dd7e0fef88"
   },
   "outputs": [],
   "source": [
    "def get_id_from_partial_name(partial):\n",
    "    for name in all_anime_names:\n",
    "        if partial in name:\n",
    "            print(name,all_anime_names.index(name))"
   ]
  },
  {
   "cell_type": "code",
   "execution_count": 181,
   "metadata": {
    "_active": false,
    "_cell_guid": "97c389f8-4b5c-64eb-496e-02ed661b4378",
    "_uuid": "eadc206a380bfd8bed4f316aba3b08a8548043f0"
   },
   "outputs": [],
   "source": [
    "\"\"\" print_similar_query can search for similar animes both by id and by name. \"\"\"\n",
    "\n",
    "def print_similar_animes(query=None,id=None):\n",
    "    if id:\n",
    "        for id in indices[id][1:]:\n",
    "            print(anime.loc[id][\"name\"])\n",
    "    if query:\n",
    "        found_id = get_index_from_name(query)\n",
    "        for id in indices[found_id][1:]:\n",
    "            print(anime.loc[id][\"name\"])"
   ]
  },
  {
   "cell_type": "markdown",
   "metadata": {
    "_active": false,
    "_cell_guid": "53d59815-7adb-f386-1a3d-99100e6bb5bb",
    "_uuid": "eaf2648a2993d198e2bf73b439cca9702ecf97f9"
   },
   "source": [
    "# Testing"
   ]
  },
  {
   "cell_type": "code",
   "execution_count": 182,
   "metadata": {
    "_active": false,
    "_cell_guid": "40e1210f-5325-f9ce-1450-37995989e54b",
    "_uuid": "f7ef278f9b13e100fc6debe81c96c4d42614ee41"
   },
   "outputs": [
    {
     "name": "stdout",
     "output_type": "stream",
     "text": [
      "Naruto Shippuuden\n",
      "Katekyo Hitman Reborn \n",
      "Bleach\n",
      "Dragon Ball Z\n",
      "Boku no Hero Academia\n"
     ]
    }
   ],
   "source": [
    "print_similar_animes(\"Naruto\")"
   ]
  },
  {
   "cell_type": "code",
   "execution_count": 188,
   "metadata": {
    "_active": false,
    "_cell_guid": "3ac58ce1-2be8-0769-53cd-faaa05c44891",
    "_uuid": "52257a73d4e59ec4c64d36813f2059dc526984bf"
   },
   "outputs": [
    {
     "name": "stdout",
     "output_type": "stream",
     "text": [
      "Shiranpuri Movie \n",
      "Dodani\n",
      "Kokoro ga Sakebitagatterunda \n",
      "Tsumiki no Ie\n",
      "Mirai ni Mukete Bousai wo Kangaeru\n"
     ]
    }
   ],
   "source": [
    "print_similar_animes(\"Koe no Katachi\")"
   ]
  },
  {
   "cell_type": "code",
   "execution_count": 196,
   "metadata": {
    "_active": false,
    "_cell_guid": "36fa151f-ccc6-6893-7a3c-ca4d9a94e90b",
    "_uuid": "b3a09e6348ebcae84073f023c1823ba7101c7e73"
   },
   "outputs": [
    {
     "name": "stdout",
     "output_type": "stream",
     "text": [
      "Gintama 039 \n",
      "Gintama \n",
      "Gintama 039 Enchousen\n",
      "Gintama 2017 \n",
      "Gintama Movie Kanketsu hen Yorozuya yo Eien Nare\n"
     ]
    }
   ],
   "source": [
    "print_similar_animes(\"Gintama\")"
   ]
  },
  {
   "cell_type": "code",
   "execution_count": 190,
   "metadata": {
    "_active": false,
    "_cell_guid": "39272768-a4d0-db4c-6622-dc9161ead78a",
    "_uuid": "f7bff4a0b0224f9cdf99a6282b9c682cba058ba2"
   },
   "outputs": [
    {
     "name": "stdout",
     "output_type": "stream",
     "text": [
      "One Punch Man 2\n",
      "One Punch Man Road to Hero\n",
      "One Punch Man Specials\n",
      "Tokyo ESP\n",
      "Choujigen Game Neptune The Animation\n"
     ]
    }
   ],
   "source": [
    "print_similar_animes(\"One Punch Man\")"
   ]
  },
  {
   "cell_type": "code",
   "execution_count": null,
   "metadata": {},
   "outputs": [],
   "source": []
  }
 ],
 "metadata": {
  "kernelspec": {
   "display_name": "Python 3",
   "language": "python",
   "name": "python3"
  },
  "language_info": {
   "codemirror_mode": {
    "name": "ipython",
    "version": 3
   },
   "file_extension": ".py",
   "mimetype": "text/x-python",
   "name": "python",
   "nbconvert_exporter": "python",
   "pygments_lexer": "ipython3",
   "version": "3.7.0"
  }
 },
 "nbformat": 4,
 "nbformat_minor": 1
}
